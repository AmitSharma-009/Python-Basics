{
 "cells": [
  {
   "cell_type": "markdown",
   "id": "3d0d0bca-2fff-44bb-884b-4ed5554ecec0",
   "metadata": {},
   "source": [
    "# 🔁 Python Assignment: Break, Continue & Range Function\n",
    "\n",
    "This notebook presents beginner-friendly Python exercises using **break**, **continue**, and the **range()** function."
   ]
  },
  {
   "cell_type": "markdown",
   "id": "4859b56d-6393-4433-b352-b55d89a7ac83",
   "metadata": {},
   "source": [
    "## 1. Write a program to print numbers from 1 to 10, but stop if the number is 5."
   ]
  },
  {
   "cell_type": "code",
   "execution_count": 1,
   "id": "e96b931c-0411-4994-84a4-e29c2ab807b2",
   "metadata": {},
   "outputs": [
    {
     "name": "stdout",
     "output_type": "stream",
     "text": [
      "1\n",
      "2\n",
      "3\n",
      "4\n"
     ]
    }
   ],
   "source": [
    "for i in range(1, 11):\n",
    "    if i == 5:\n",
    "        break\n",
    "    print(i)"
   ]
  },
  {
   "cell_type": "markdown",
   "id": "02e2e569-6bf8-49a6-869e-1123eb6dd4e4",
   "metadata": {},
   "source": [
    "## 2. Write a program to iterate through a list and stop when encountering a specific element."
   ]
  },
  {
   "cell_type": "code",
   "execution_count": 2,
   "id": "a52d4a6c-543b-4bd6-93d1-cffb320c5ba2",
   "metadata": {},
   "outputs": [
    {
     "name": "stdout",
     "output_type": "stream",
     "text": [
      "apple\n",
      "banana\n",
      "cherry\n"
     ]
    }
   ],
   "source": [
    "fruits = ['apple', 'banana', 'cherry', 'mango', 'orange']\n",
    "for fruit in fruits:\n",
    "    if fruit == 'mango':\n",
    "        break\n",
    "    print(fruit)"
   ]
  },
  {
   "cell_type": "markdown",
   "id": "8c1e66d4-33e2-449c-865a-ef0efa2c0120",
   "metadata": {},
   "source": [
    "## 3. Write a program to skip printing even numbers from 1 to 10."
   ]
  },
  {
   "cell_type": "code",
   "execution_count": 3,
   "id": "a5657457-7d44-470a-997a-2fe9ec83cb3b",
   "metadata": {},
   "outputs": [
    {
     "name": "stdout",
     "output_type": "stream",
     "text": [
      "1\n",
      "3\n",
      "5\n",
      "7\n",
      "9\n"
     ]
    }
   ],
   "source": [
    "for i in range(1, 11):\n",
    "    if i % 2 == 0:\n",
    "        continue\n",
    "    print(i)"
   ]
  },
  {
   "cell_type": "markdown",
   "id": "1ba23487-6c8f-4f2a-922d-85153cc38626",
   "metadata": {},
   "source": [
    "## 4. Write a program to print numbers from 0 to 9 using range()."
   ]
  },
  {
   "cell_type": "code",
   "execution_count": 4,
   "id": "d01b86c3-fe76-4a7e-9ae0-47ee341a4248",
   "metadata": {},
   "outputs": [
    {
     "name": "stdout",
     "output_type": "stream",
     "text": [
      "0\n",
      "1\n",
      "2\n",
      "3\n",
      "4\n",
      "5\n",
      "6\n",
      "7\n",
      "8\n",
      "9\n"
     ]
    }
   ],
   "source": [
    "for i in range(10):\n",
    "    print(i)"
   ]
  },
  {
   "cell_type": "markdown",
   "id": "c99fe55f-aa04-48f7-92e0-0609a17c2b16",
   "metadata": {},
   "source": [
    "## 5. Print multiplication tables from 1 to 5, but stop after the first table is printed for each number."
   ]
  },
  {
   "cell_type": "code",
   "execution_count": 5,
   "id": "f82e386d-c3ee-4fbd-bf4d-bb1b078f7061",
   "metadata": {},
   "outputs": [
    {
     "name": "stdout",
     "output_type": "stream",
     "text": [
      "1 x 1 = 1\n",
      "2 x 1 = 2\n",
      "3 x 1 = 3\n",
      "4 x 1 = 4\n",
      "5 x 1 = 5\n"
     ]
    }
   ],
   "source": [
    "for i in range(1, 6):\n",
    "    for j in range(1, 11):\n",
    "        if j > 1:\n",
    "            break\n",
    "        print(f\"{i} x {j} = {i*j}\")"
   ]
  },
  {
   "cell_type": "markdown",
   "id": "d0d1aecd-a029-4d05-a93f-525a4e87b07f",
   "metadata": {},
   "source": [
    "## 6. Write a program to skip printing even numbers using a while loop."
   ]
  },
  {
   "cell_type": "code",
   "execution_count": 6,
   "id": "89792678-fef5-405f-97ab-f3919ebed38f",
   "metadata": {},
   "outputs": [
    {
     "name": "stdout",
     "output_type": "stream",
     "text": [
      "1\n",
      "3\n",
      "5\n",
      "7\n",
      "9\n"
     ]
    }
   ],
   "source": [
    "i = 1\n",
    "while i <= 10:\n",
    "    if i % 2 == 0:\n",
    "        i += 1\n",
    "        continue\n",
    "    print(i)\n",
    "    i += 1"
   ]
  }
 ],
 "metadata": {
  "kernelspec": {
   "display_name": "Python [conda env:base] *",
   "language": "python",
   "name": "conda-base-py"
  },
  "language_info": {
   "codemirror_mode": {
    "name": "ipython",
    "version": 3
   },
   "file_extension": ".py",
   "mimetype": "text/x-python",
   "name": "python",
   "nbconvert_exporter": "python",
   "pygments_lexer": "ipython3",
   "version": "3.12.7"
  }
 },
 "nbformat": 4,
 "nbformat_minor": 5
}
