{
 "cells": [
  {
   "cell_type": "code",
   "execution_count": 1,
   "id": "b5712d78-6a6e-49b0-bf6f-8a847c4483df",
   "metadata": {},
   "outputs": [],
   "source": [
    "import pandas as pd\n",
    "import numpy as np\n",
    "import seaborn as sns\n",
    "import matplotlib.pyplot as plt\n",
    "\n",
    "\n",
    "import warnings\n",
    "warnings.filterwarnings('ignore')"
   ]
  },
  {
   "cell_type": "markdown",
   "id": "80f6ca32-38e3-477f-a955-35e93f67a670",
   "metadata": {},
   "source": [
    "# Python Type Conversion Assignment\n",
    "1. Convert an integer to a floating-point number"
   ]
  },
  {
   "cell_type": "code",
   "execution_count": 2,
   "id": "2f48fa23-46b6-40d1-900a-eccf6383726a",
   "metadata": {},
   "outputs": [
    {
     "name": "stdout",
     "output_type": "stream",
     "text": [
      "10.0\n"
     ]
    }
   ],
   "source": [
    "num = 10\n",
    "float_num = float(num)\n",
    "print(float_num)"
   ]
  },
  {
   "cell_type": "markdown",
   "id": "5dd7db89-d25d-47a5-bf7f-fffdbc362990",
   "metadata": {},
   "source": [
    "2. Convert a float to an integer"
   ]
  },
  {
   "cell_type": "code",
   "execution_count": 3,
   "id": "6be07888-2843-4d89-b332-6c9065f32de2",
   "metadata": {},
   "outputs": [
    {
     "name": "stdout",
     "output_type": "stream",
     "text": [
      "15\n"
     ]
    }
   ],
   "source": [
    "float_value = 15.7\n",
    "int_value = int(float_value)\n",
    "print(int_value)"
   ]
  },
  {
   "cell_type": "markdown",
   "id": "576cc673-244d-4a10-8846-e0e36fa20508",
   "metadata": {},
   "source": [
    "3. Convert an integer to a string"
   ]
  },
  {
   "cell_type": "code",
   "execution_count": 4,
   "id": "2c6d2558-9539-417c-b19a-1ae50da6a151",
   "metadata": {},
   "outputs": [
    {
     "name": "stdout",
     "output_type": "stream",
     "text": [
      "25\n"
     ]
    }
   ],
   "source": [
    "int_num = 25\n",
    "str_num = str(int_num)\n",
    "print(str_num)"
   ]
  },
  {
   "cell_type": "markdown",
   "id": "206ab2f0-63f0-4e35-90aa-83aece327591",
   "metadata": {},
   "source": [
    "4. Convert a list to a tuple"
   ]
  },
  {
   "cell_type": "code",
   "execution_count": 5,
   "id": "aa51ed01-e8e9-45cc-95ae-c13844ffbab9",
   "metadata": {},
   "outputs": [
    {
     "name": "stdout",
     "output_type": "stream",
     "text": [
      "(1, 2, 3, 4)\n"
     ]
    }
   ],
   "source": [
    "my_list = [1, 2, 3, 4]\n",
    "my_tuple = tuple(my_list)\n",
    "print(my_tuple)"
   ]
  },
  {
   "cell_type": "markdown",
   "id": "c2dbbc25-19e3-4661-bee4-499a56edcde2",
   "metadata": {},
   "source": [
    "5. Convert a tuple to a list"
   ]
  },
  {
   "cell_type": "code",
   "execution_count": 6,
   "id": "1c37c34d-7f97-443e-a6cc-213868025d1e",
   "metadata": {},
   "outputs": [
    {
     "name": "stdout",
     "output_type": "stream",
     "text": [
      "[5, 6, 7]\n"
     ]
    }
   ],
   "source": [
    "my_tuple = (5, 6, 7)\n",
    "my_list = list(my_tuple)\n",
    "print(my_list)"
   ]
  },
  {
   "cell_type": "markdown",
   "id": "ab310425-5007-4313-b571-9a0126711f5e",
   "metadata": {},
   "source": [
    "6. Convert a non-zero number to boolean."
   ]
  },
  {
   "cell_type": "code",
   "execution_count": 7,
   "id": "2dbc436f-e862-4e61-8522-923bdb44e5ce",
   "metadata": {},
   "outputs": [
    {
     "name": "stdout",
     "output_type": "stream",
     "text": [
      "True\n"
     ]
    }
   ],
   "source": [
    "num = 3\n",
    "bool_value = bool(num)\n",
    "print(bool_value)"
   ]
  },
  {
   "cell_type": "markdown",
   "id": "6749eb09-a05e-4a0a-aa7c-abbd16f8c59a",
   "metadata": {},
   "source": [
    "7. Convert a decimal number to binary."
   ]
  },
  {
   "cell_type": "code",
   "execution_count": 8,
   "id": "7c92c162-5240-4577-ab23-6505dc12608c",
   "metadata": {},
   "outputs": [
    {
     "name": "stdout",
     "output_type": "stream",
     "text": [
      "0b1010\n"
     ]
    }
   ],
   "source": [
    "decimal = 10\n",
    "binary = bin(decimal)\n",
    "print(binary)"
   ]
  },
  {
   "cell_type": "code",
   "execution_count": null,
   "id": "905bd53a-db02-41ec-adb6-02396c2cb158",
   "metadata": {},
   "outputs": [],
   "source": []
  }
 ],
 "metadata": {
  "kernelspec": {
   "display_name": "Python [conda env:base] *",
   "language": "python",
   "name": "conda-base-py"
  },
  "language_info": {
   "codemirror_mode": {
    "name": "ipython",
    "version": 3
   },
   "file_extension": ".py",
   "mimetype": "text/x-python",
   "name": "python",
   "nbconvert_exporter": "python",
   "pygments_lexer": "ipython3",
   "version": "3.12.7"
  }
 },
 "nbformat": 4,
 "nbformat_minor": 5
}
