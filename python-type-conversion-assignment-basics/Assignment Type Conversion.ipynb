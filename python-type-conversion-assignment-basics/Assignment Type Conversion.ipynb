{
 "cells": [
  {
   "cell_type": "markdown",
   "id": "8260e8b2",
   "metadata": {},
   "source": [
    "# Python Type Conversion Assignment"
   ]
  },
  {
   "cell_type": "markdown",
   "id": "e44963e4",
   "metadata": {},
   "source": [
    "### 1. Convert an integer to a floating-point number"
   ]
  },
  {
   "cell_type": "code",
   "execution_count": null,
   "id": "21c4bcd4",
   "metadata": {},
   "outputs": [],
   "source": [
    "num = 10\n",
    "float_num = float(num)\n",
    "print(float_num)  # Output: 10.0"
   ]
  },
  {
   "cell_type": "markdown",
   "id": "d6f7bc07",
   "metadata": {},
   "source": [
    "### 2. Convert a float to an integer"
   ]
  },
  {
   "cell_type": "code",
   "execution_count": null,
   "id": "60e01533",
   "metadata": {},
   "outputs": [],
   "source": [
    "float_value = 15.7\n",
    "int_value = int(float_value)\n",
    "print(int_value)  # Output: 15"
   ]
  },
  {
   "cell_type": "markdown",
   "id": "574e7325",
   "metadata": {},
   "source": [
    "### 3. Convert an integer to a string"
   ]
  },
  {
   "cell_type": "code",
   "execution_count": null,
   "id": "abfdacf3",
   "metadata": {},
   "outputs": [],
   "source": [
    "int_num = 25\n",
    "str_num = str(int_num)\n",
    "print(str_num)  # Output: '25'"
   ]
  },
  {
   "cell_type": "markdown",
   "id": "a0cff5e6",
   "metadata": {},
   "source": [
    "### 4. Convert a list to a tuple"
   ]
  },
  {
   "cell_type": "code",
   "execution_count": null,
   "id": "e92d1f22",
   "metadata": {},
   "outputs": [],
   "source": [
    "my_list = [1, 2, 3, 4]\n",
    "my_tuple = tuple(my_list)\n",
    "print(my_tuple)  # Output: (1, 2, 3, 4)"
   ]
  },
  {
   "cell_type": "markdown",
   "id": "0e75bff7",
   "metadata": {},
   "source": [
    "### 5. Convert a tuple to a list"
   ]
  },
  {
   "cell_type": "code",
   "execution_count": null,
   "id": "975d9e8e",
   "metadata": {},
   "outputs": [],
   "source": [
    "my_tuple = (5, 6, 7)\n",
    "my_list = list(my_tuple)\n",
    "print(my_list)  # Output: [5, 6, 7]"
   ]
  },
  {
   "cell_type": "markdown",
   "id": "baf94350",
   "metadata": {},
   "source": [
    "### 6. Convert a non-zero number to boolean"
   ]
  },
  {
   "cell_type": "code",
   "execution_count": null,
   "id": "c0a4881d",
   "metadata": {},
   "outputs": [],
   "source": [
    "num = 3\n",
    "bool_value = bool(num)\n",
    "print(bool_value)  # Output: True"
   ]
  },
  {
   "cell_type": "markdown",
   "id": "bad1502c",
   "metadata": {},
   "source": [
    "### 7. Convert a decimal number to binary"
   ]
  },
  {
   "cell_type": "code",
   "execution_count": null,
   "id": "ceaf92ea",
   "metadata": {},
   "outputs": [],
   "source": [
    "decimal = 10\n",
    "binary = bin(decimal)\n",
    "print(binary)  # Output: '0b1010'"
   ]
  }
 ],
 "metadata": {},
 "nbformat": 4,
 "nbformat_minor": 5
}