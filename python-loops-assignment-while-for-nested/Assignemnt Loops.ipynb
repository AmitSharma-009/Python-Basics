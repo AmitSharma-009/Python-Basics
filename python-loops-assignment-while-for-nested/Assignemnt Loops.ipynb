{
 "cells": [
  {
   "cell_type": "markdown",
   "id": "398026f6-58f3-41f4-a04a-9936d51c2a2a",
   "metadata": {},
   "source": [
    "# 🔁 Python Loops Assignment (While, For)\n",
    "\n",
    "This notebook covers essential Python loop constructs with practical examples. "
   ]
  },
  {
   "cell_type": "code",
   "execution_count": 1,
   "id": "cf026fb3-72d0-49f6-98da-a126ccc00247",
   "metadata": {},
   "outputs": [],
   "source": [
    "import pandas as pd\n",
    "import numpy as np\n",
    "\n",
    "import warnings\n",
    "warnings.filterwarnings('ignore')"
   ]
  },
  {
   "cell_type": "markdown",
   "id": "271d182c-c8f5-4de1-b189-0bad2345fb23",
   "metadata": {},
   "source": [
    "## 1. Print numbers from 1 to 5 using a while loop."
   ]
  },
  {
   "cell_type": "code",
   "execution_count": 2,
   "id": "5e57d192-a2bf-4df1-8244-cbfe37bd669f",
   "metadata": {},
   "outputs": [
    {
     "name": "stdout",
     "output_type": "stream",
     "text": [
      "1\n",
      "2\n",
      "3\n",
      "4\n",
      "5\n"
     ]
    }
   ],
   "source": [
    "i = 1\n",
    "while i <= 5:\n",
    "    print(i)\n",
    "    i += 1"
   ]
  },
  {
   "cell_type": "markdown",
   "id": "2dc84a85-31e6-4230-827d-0feeddf1bb10",
   "metadata": {},
   "source": [
    "## 2. Calculate the sum of numbers from 1 to 10 using a while loop."
   ]
  },
  {
   "cell_type": "code",
   "execution_count": 3,
   "id": "ec5c9af0-7b7c-4658-80d7-25d594dfb123",
   "metadata": {},
   "outputs": [
    {
     "name": "stdout",
     "output_type": "stream",
     "text": [
      "Sum: 55\n"
     ]
    }
   ],
   "source": [
    "i = 1\n",
    "sum_total = 0\n",
    "while i <= 10:\n",
    "    sum_total += i\n",
    "    i += 1\n",
    "print(\"Sum:\", sum_total)"
   ]
  },
  {
   "cell_type": "markdown",
   "id": "2fca7c93-fa82-4c20-9f8a-d965f19504e4",
   "metadata": {},
   "source": [
    "## 3. Calculate the factorial of a number using a for loop."
   ]
  },
  {
   "cell_type": "code",
   "execution_count": 4,
   "id": "f1a8fbe4-e32b-4109-b9bb-04ee59ada66e",
   "metadata": {},
   "outputs": [
    {
     "name": "stdout",
     "output_type": "stream",
     "text": [
      "Factorial of 5 is 120\n"
     ]
    }
   ],
   "source": [
    "num = 5\n",
    "factorial = 1\n",
    "for i in range(1, num + 1):\n",
    "    factorial *= i\n",
    "print(f\"Factorial of {num} is {factorial}\")"
   ]
  },
  {
   "cell_type": "markdown",
   "id": "d09efe5c-d1ea-4a9d-8d50-638e450efbac",
   "metadata": {},
   "source": [
    "## 4. Count the number of vowels in a string using a for loop."
   ]
  },
  {
   "cell_type": "code",
   "execution_count": 5,
   "id": "1d593ee9-2fbd-46a7-a646-1085c1749745",
   "metadata": {},
   "outputs": [
    {
     "name": "stdout",
     "output_type": "stream",
     "text": [
      "Number of vowels: 7\n"
     ]
    }
   ],
   "source": [
    "text = \"Data Science With Python\"\n",
    "vowels = \"aeiouAEIOU\"\n",
    "vowel_count = 0\n",
    "for char in text:\n",
    "    if char in vowels:\n",
    "        vowel_count += 1\n",
    "print(\"Number of vowels:\", vowel_count)"
   ]
  },
  {
   "cell_type": "markdown",
   "id": "b88fa1c3-3881-4c49-b210-8109431a5795",
   "metadata": {},
   "source": [
    "## 5. Print a pattern using nested loops."
   ]
  },
  {
   "cell_type": "code",
   "execution_count": 6,
   "id": "a3f00c2d-8fc7-4614-964a-7a38f746211e",
   "metadata": {},
   "outputs": [
    {
     "name": "stdout",
     "output_type": "stream",
     "text": [
      "* \n",
      "* * \n",
      "* * * \n",
      "* * * * \n",
      "* * * * * \n"
     ]
    }
   ],
   "source": [
    "rows = 5\n",
    "for i in range(1, rows + 1):\n",
    "    for j in range(i):\n",
    "        print(\"*\", end=\" \")\n",
    "    print()"
   ]
  },
  {
   "cell_type": "markdown",
   "id": "cf4f1111-207a-47b6-b1db-a5a8d44f69f1",
   "metadata": {},
   "source": [
    "## 6. Generate a multiplication table using nested loops."
   ]
  },
  {
   "cell_type": "code",
   "execution_count": 7,
   "id": "7413de31-d387-4ba6-9987-6304056f0f8b",
   "metadata": {},
   "outputs": [
    {
     "name": "stdout",
     "output_type": "stream",
     "text": [
      "1\t2\t3\t4\t5\t\n",
      "2\t4\t6\t8\t10\t\n",
      "3\t6\t9\t12\t15\t\n",
      "4\t8\t12\t16\t20\t\n",
      "5\t10\t15\t20\t25\t\n"
     ]
    }
   ],
   "source": [
    "for i in range(1, 6):\n",
    "    for j in range(1, 6):\n",
    "        print(i * j, end=\"\\t\")\n",
    "    print()"
   ]
  }
 ],
 "metadata": {
  "kernelspec": {
   "display_name": "Python [conda env:base] *",
   "language": "python",
   "name": "conda-base-py"
  },
  "language_info": {
   "codemirror_mode": {
    "name": "ipython",
    "version": 3
   },
   "file_extension": ".py",
   "mimetype": "text/x-python",
   "name": "python",
   "nbconvert_exporter": "python",
   "pygments_lexer": "ipython3",
   "version": "3.12.7"
  }
 },
 "nbformat": 4,
 "nbformat_minor": 5
}
