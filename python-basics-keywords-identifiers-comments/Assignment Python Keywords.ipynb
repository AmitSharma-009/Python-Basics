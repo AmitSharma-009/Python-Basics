{
 "cells": [
  {
   "cell_type": "markdown",
   "id": "811adf3d-6666-4def-a105-6100c27f874d",
   "metadata": {},
   "source": [
    "# 🐍 Python Basics: Keywords, Identifiers, Comments, Indentation, and Statements\n",
    "\n",
    "This assignment provides foundational explanations and examples on core Python concepts such as **keywords**, **identifiers**, **comments**, **indentation**, and **statements**. These basics are essential for every Python beginner, especially in data science and automation tasks."
   ]
  },
  {
   "cell_type": "markdown",
   "id": "7f3cd5d5-9363-4025-b211-4da0ce9a8403",
   "metadata": {},
   "source": [
    "## 1. Explain the significance of Python keywords and provide examples of five keywords."
   ]
  },
  {
   "cell_type": "markdown",
   "id": "f6abb085-72f0-40c9-850a-f61b0272f626",
   "metadata": {},
   "source": [
    "Python **keywords** are reserved words that have special meaning in the language. They cannot be used as identifiers.\n",
    "\n",
    "**Examples of Python keywords:**\n",
    "- `if`: used for conditional branching\n",
    "- `def`: used to define a function\n",
    "- `return`: used to return a value from a function\n",
    "- `import`: used to import a module\n",
    "- `while`: used to create loops"
   ]
  },
  {
   "cell_type": "markdown",
   "id": "180d277a-7e1e-49c6-86f1-2ec255a31f7a",
   "metadata": {},
   "source": [
    "## 2. Describe the rules for defining identifiers in Python and provide an example."
   ]
  },
  {
   "cell_type": "markdown",
   "id": "79856278-db45-48ec-a411-5a8fad598fc0",
   "metadata": {},
   "source": [
    "**Rules for Identifiers:**\n",
    "- Must start with a letter (A–Z, a–z) or underscore (_)\n",
    "- Can be followed by letters, digits (0–9), or underscores\n",
    "- Cannot use Python keywords\n",
    "- Case-sensitive (`MyVar` and `myvar` are different)\n",
    "\n",
    "**Example:**\n",
    "```python\n",
    "student_name = 'Amit'\n",
    "print(student_name)\n",
    "```"
   ]
  },
  {
   "cell_type": "code",
   "execution_count": 4,
   "id": "79577791-95fe-4833-8a92-9ee8a8116d4a",
   "metadata": {},
   "outputs": [
    {
     "name": "stdout",
     "output_type": "stream",
     "text": [
      "Amit\n"
     ]
    }
   ],
   "source": [
    "student_name = 'Amit'\n",
    "print(student_name)"
   ]
  },
  {
   "cell_type": "markdown",
   "id": "f49a311b-0b9a-4ad2-9c7f-6873ed5d5368",
   "metadata": {},
   "source": [
    "## 3. What are comments in Python, and why are they useful? Provide an example."
   ]
  },
  {
   "cell_type": "markdown",
   "id": "808506ee-1e32-4255-86b2-511171cf7802",
   "metadata": {},
   "source": [
    "Comments are lines in Python code that are **not executed**. They help explain what the code does, which improves readability.\n",
    "\n",
    "**Example:**\n",
    "```python\n",
    "# This line prints a greeting\n",
    "print(\"Hello, World!\")\n",
    "```"
   ]
  },
  {
   "cell_type": "code",
   "execution_count": 5,
   "id": "2ef3f95c-d684-4505-aab5-fe50402bfbfe",
   "metadata": {},
   "outputs": [
    {
     "name": "stdout",
     "output_type": "stream",
     "text": [
      "Hello, World!\n"
     ]
    }
   ],
   "source": [
    "print (\"Hello, World!\")"
   ]
  },
  {
   "cell_type": "markdown",
   "id": "7a6a59bc-54d7-4b6b-bddd-b2025cd81272",
   "metadata": {},
   "source": [
    "## 4. Why is proper indentation important in Python?"
   ]
  },
  {
   "cell_type": "markdown",
   "id": "bf9b74c3-ab6b-49c6-995e-ff5f1174accc",
   "metadata": {},
   "source": [
    "Python uses indentation to define the blocks of code. It is **mandatory** and replaces braces used in other languages.\n",
    "\n",
    "Proper indentation helps the interpreter understand the flow and grouping of code."
   ]
  },
  {
   "cell_type": "markdown",
   "id": "24b08e41-e7c7-495a-a2a6-0946518c0c29",
   "metadata": {},
   "source": [
    "## 5. What happens if indentation is incorrect in Python?"
   ]
  },
  {
   "cell_type": "markdown",
   "id": "8dbddca9-9324-4d14-9747-51e6d1444712",
   "metadata": {},
   "source": [
    "Incorrect indentation results in an `IndentationError`. Python expects consistent indentation across code blocks.\n",
    "\n",
    "**Example:**\n",
    "```python\n",
    "def greet():\n",
    "print(\"Hi\")  # ❌ This will cause an IndentationError\n",
    "```"
   ]
  },
  {
   "cell_type": "markdown",
   "id": "6fd871b4-58b6-4665-8cd3-9c78420caee4",
   "metadata": {},
   "source": [
    "## 6. Differentiate between expression and statement in Python with examples."
   ]
  },
  {
   "cell_type": "markdown",
   "id": "864b6b2a-53c4-4944-99c2-051cd654fe91",
   "metadata": {},
   "source": [
    "**Expression:** A combination of values and operators that produces a result.\n",
    "```python\n",
    "result = 3 + 5  # '3 + 5' is an expression\n",
    "```\n",
    "\n",
    "**Statement:** A complete instruction that performs an action.\n",
    "```python\n",
    "x = 10  # This is a statement\n",
    "print(x)  # Another statement\n",
    "```"
   ]
  },
  {
   "cell_type": "code",
   "execution_count": 6,
   "id": "a10801c3-16d8-4523-8927-423322a87711",
   "metadata": {},
   "outputs": [
    {
     "name": "stdout",
     "output_type": "stream",
     "text": [
      "10\n"
     ]
    }
   ],
   "source": [
    "x = 10\n",
    "print(x)"
   ]
  }
 ],
 "metadata": {
  "kernelspec": {
   "display_name": "Python [conda env:base] *",
   "language": "python",
   "name": "conda-base-py"
  },
  "language_info": {
   "codemirror_mode": {
    "name": "ipython",
    "version": 3
   },
   "file_extension": ".py",
   "mimetype": "text/x-python",
   "name": "python",
   "nbconvert_exporter": "python",
   "pygments_lexer": "ipython3",
   "version": "3.12.7"
  }
 },
 "nbformat": 4,
 "nbformat_minor": 5
}
