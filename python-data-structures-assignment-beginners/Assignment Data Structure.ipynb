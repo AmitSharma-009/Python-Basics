{
 "cells": [
  {
   "cell_type": "markdown",
   "id": "2760fe91-2e3e-4817-b038-07bc62207917",
   "metadata": {},
   "source": [
    "# 📦 Python Data Structures Assignment\n",
    "\n",
    "This assignment explains and compares different Python data structures including **deques**, **stacks**, **sets**, **arrays**, **lists**, and **dictionaries**."
   ]
  },
  {
   "cell_type": "markdown",
   "id": "91b2ea28-a096-44c0-9f32-675e8e4929f7",
   "metadata": {},
   "source": [
    "## 1. Why might you choose a deque from the collections module to implement a queue instead of using a regular Python list?"
   ]
  },
  {
   "cell_type": "markdown",
   "id": "77206004-6e0d-49ce-8b03-786d87919a43",
   "metadata": {},
   "source": [
    "The `deque` (double-ended queue) from Python’s `collections` module is optimized for **fast appends and pops from both ends**. Unlike regular lists, which have O(n) time complexity for `pop(0)` or `insert(0, x)`, a `deque` has O(1) complexity for these operations.\n",
    "\n",
    "**Use Case:** Ideal for implementing **queues** or **sliding windows** in data streaming scenarios."
   ]
  },
  {
   "cell_type": "markdown",
   "id": "64c1557a-171c-41df-8d99-a44d37bdbe21",
   "metadata": {},
   "source": [
    "## 2. Can you explain a real-world scenario where using a stack would be a more practical choice than a list for data storage and retrieval?"
   ]
  },
  {
   "cell_type": "markdown",
   "id": "c7a9f490-a1e5-408f-b734-8893fc547442",
   "metadata": {},
   "source": [
    "**Real-world scenario:** Implementing the **Undo/Redo** functionality in a text editor. Every user action is pushed onto a stack. When the user presses undo, the most recent action is popped from the stack.\n",
    "\n",
    "Stacks follow **Last-In-First-Out (LIFO)** logic, which suits problems where the last added item must be accessed first."
   ]
  },
  {
   "cell_type": "markdown",
   "id": "e16c47c6-9404-4ba4-9616-e1510f286362",
   "metadata": {},
   "source": [
    "## 3. What is the primary advantage of using sets in Python, and in what type of problem-solving scenarios are they most useful?"
   ]
  },
  {
   "cell_type": "markdown",
   "id": "5bb7ad85-080a-4cfb-8706-c5d2bb9df5cf",
   "metadata": {},
   "source": [
    "**Primary advantage:** Sets automatically eliminate **duplicates** and allow **fast membership testing**.\n",
    "\n",
    "**Useful for:**\n",
    "- Removing duplicates from a list\n",
    "- Finding intersections or unions in data (e.g., common elements in user preferences)"
   ]
  },
  {
   "cell_type": "markdown",
   "id": "2c52b98c-bc3c-4883-8349-c54b3c3444bc",
   "metadata": {},
   "source": [
    "## 4. When might you choose to use an array instead of a list for storing numerical data in Python? What benefits do arrays offer in this context?"
   ]
  },
  {
   "cell_type": "markdown",
   "id": "cea04be7-a251-438e-bfa2-b586c02322e4",
   "metadata": {},
   "source": [
    "You should use an **array** (e.g., from the `array` module or NumPy) when working with **large numerical data** for mathematical operations.\n",
    "\n",
    "**Benefits:**\n",
    "- More **memory efficient** than lists\n",
    "- Better **performance** for numerical computations\n",
    "- Supported by libraries like **NumPy** for vectorized operations"
   ]
  },
  {
   "cell_type": "markdown",
   "id": "1eab6290-8900-471e-92d8-dce6ad3946e0",
   "metadata": {},
   "source": [
    "## 5. In Python, what's the primary difference between dictionaries and lists, and how does this difference impact their use cases in programming?"
   ]
  },
  {
   "cell_type": "markdown",
   "id": "132aad2e-7f6c-4294-82c4-27d913693c98",
   "metadata": {},
   "source": [
    "**Dictionaries** store data in **key-value pairs**, while **lists** store items in a sequential **index-based** order.\n",
    "\n",
    "**Impact:**\n",
    "- Use **lists** for ordered collections of items\n",
    "- Use **dictionaries** when you need to **associate values with keys**, such as storing user information, configuration data, or lookup tables"
   ]
  }
 ],
 "metadata": {
  "kernelspec": {
   "display_name": "Python [conda env:base] *",
   "language": "python",
   "name": "conda-base-py"
  },
  "language_info": {
   "codemirror_mode": {
    "name": "ipython",
    "version": 3
   },
   "file_extension": ".py",
   "mimetype": "text/x-python",
   "name": "python",
   "nbconvert_exporter": "python",
   "pygments_lexer": "ipython3",
   "version": "3.12.7"
  }
 },
 "nbformat": 4,
 "nbformat_minor": 5
}
