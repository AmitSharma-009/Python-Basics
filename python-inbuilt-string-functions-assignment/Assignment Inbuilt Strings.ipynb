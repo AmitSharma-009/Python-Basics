{
 "cells": [
  {
   "cell_type": "markdown",
   "id": "b57cfe8f-08a0-4c6a-a696-4b2c376805ed",
   "metadata": {},
   "source": [
    "# 🔤 Python String Functions Assignment\n",
    "\n",
    "This notebook explores essential **inbuilt string functions** in Python, ideal for beginners in programming or data science."
   ]
  },
  {
   "cell_type": "markdown",
   "id": "b7468301-4794-489e-bd1b-b88ef5f028c8",
   "metadata": {},
   "source": [
    "## 1. What is the purpose of the len() function in Python, and how can it be used with strings?"
   ]
  },
  {
   "cell_type": "markdown",
   "id": "21d20059-bbc2-48b0-be72-b00f9d202b6a",
   "metadata": {},
   "source": [
    "The `len()` function returns the **number of characters** in a string.\n",
    "\n",
    "**Example:**\n",
    "```python\n",
    "text = \"Python\"\n",
    "print(len(text))\n",
    "```"
   ]
  },
  {
   "cell_type": "code",
   "execution_count": 2,
   "id": "dff2ff17-bf37-44fd-806c-b022ddf1f40c",
   "metadata": {},
   "outputs": [
    {
     "name": "stdout",
     "output_type": "stream",
     "text": [
      "6\n"
     ]
    }
   ],
   "source": [
    "text = \"Python\"\n",
    "print(len(text))"
   ]
  },
  {
   "cell_type": "markdown",
   "id": "e316c33f-e19d-44be-96e8-c3d02490c809",
   "metadata": {},
   "source": [
    "## 2. How can you concatenate two or more strings in Python, and can you provide an example of string concatenation?"
   ]
  },
  {
   "cell_type": "markdown",
   "id": "6b3a5f3b-b137-4c9b-b55b-f4b4157b8679",
   "metadata": {},
   "source": [
    "**String concatenation** joins two or more strings using the `+` operator.\n",
    "\n",
    "**Example:**\n",
    "```python\n",
    "first = \"Data\"\n",
    "second = \"Science\"\n",
    "result = first + \" \" + second\n",
    "print(result)\n",
    "```"
   ]
  },
  {
   "cell_type": "code",
   "execution_count": 3,
   "id": "0b4d26f0-f3eb-4621-9cc8-7bfb3fbde7d3",
   "metadata": {},
   "outputs": [
    {
     "name": "stdout",
     "output_type": "stream",
     "text": [
      "Data Science\n"
     ]
    }
   ],
   "source": [
    "first = \"Data\"\n",
    "second = \"Science\"\n",
    "result = first + \" \" + second\n",
    "print(result)"
   ]
  },
  {
   "cell_type": "markdown",
   "id": "b3f956bb-e61e-4f17-aa80-72add0e713f9",
   "metadata": {},
   "source": [
    "## 3. What is string slicing in Python, and how can you extract a portion of a string using this method?"
   ]
  },
  {
   "cell_type": "markdown",
   "id": "5c0d5a79-d515-45d4-b79c-84126784b38c",
   "metadata": {},
   "source": [
    "**String slicing** allows you to extract a **substring** using the format `string[start:end]`.\n",
    "\n",
    "**Example:**\n",
    "```python\n",
    "text = \"DataScience\"\n",
    "print(text[0:4])  \n",
    "print(text[4:])\n",
    "```"
   ]
  },
  {
   "cell_type": "code",
   "execution_count": 4,
   "id": "b3de690f-49c1-4e6f-ba08-82c5ceae874e",
   "metadata": {},
   "outputs": [
    {
     "name": "stdout",
     "output_type": "stream",
     "text": [
      "Data\n",
      "Science\n"
     ]
    }
   ],
   "source": [
    "text = \"DataScience\"\n",
    "print(text[0:4])  \n",
    "print(text[4:])"
   ]
  },
  {
   "cell_type": "markdown",
   "id": "d56d68f4-bde3-4067-bfce-b17ddc2ea2bb",
   "metadata": {},
   "source": [
    "## 4. How can you change the case of a string in Python, and can you provide examples of both making a string all uppercase and all lowercase?"
   ]
  },
  {
   "cell_type": "markdown",
   "id": "3a37c09e-7f2b-472c-8bef-2805983f2516",
   "metadata": {},
   "source": [
    "**Use `.upper()` to convert to uppercase** and **`.lower()` to convert to lowercase**.\n",
    "\n",
    "**Example:**\n",
    "```python\n",
    "msg = \"Python\"\n",
    "print(msg.upper())  \n",
    "print(msg.lower())  \n",
    "```"
   ]
  },
  {
   "cell_type": "code",
   "execution_count": 5,
   "id": "5fe0b134-da56-4351-a485-8e35af31d39f",
   "metadata": {},
   "outputs": [
    {
     "name": "stdout",
     "output_type": "stream",
     "text": [
      "PYTHON\n",
      "python\n"
     ]
    }
   ],
   "source": [
    "msg = \"Python\"\n",
    "print(msg.upper())  \n",
    "print(msg.lower())"
   ]
  },
  {
   "cell_type": "markdown",
   "id": "0995465e-047c-4c13-a350-da63b6de1d5b",
   "metadata": {},
   "source": [
    "## 5. What does the split() method do in Python, and how can you split a string using a specific delimiter?"
   ]
  },
  {
   "cell_type": "markdown",
   "id": "b6f877a1-113b-46c1-b7a1-09ce2686df85",
   "metadata": {},
   "source": [
    "`split()` **divides a string** into a list of substrings using a delimiter (default is space).\n",
    "\n",
    "**Example:**\n",
    "```python\n",
    "sentence = \"Python is powerful\"\n",
    "print(sentence.split())  \n",
    "\n",
    "csv_line = \"apple,banana,mango\"\n",
    "print(csv_line.split(\",\"))  \n",
    "```"
   ]
  },
  {
   "cell_type": "code",
   "execution_count": 6,
   "id": "4f4d854d-bb79-4429-8c1c-aab41652d809",
   "metadata": {},
   "outputs": [
    {
     "name": "stdout",
     "output_type": "stream",
     "text": [
      "['Python', 'is', 'powerful']\n",
      "['apple', 'banana', 'mango']\n"
     ]
    }
   ],
   "source": [
    "sentence = \"Python is powerful\"\n",
    "print(sentence.split())  \n",
    "\n",
    "csv_line = \"apple,banana,mango\"\n",
    "print(csv_line.split(\",\"))  "
   ]
  }
 ],
 "metadata": {
  "kernelspec": {
   "display_name": "Python [conda env:base] *",
   "language": "python",
   "name": "conda-base-py"
  },
  "language_info": {
   "codemirror_mode": {
    "name": "ipython",
    "version": 3
   },
   "file_extension": ".py",
   "mimetype": "text/x-python",
   "name": "python",
   "nbconvert_exporter": "python",
   "pygments_lexer": "ipython3",
   "version": "3.12.7"
  }
 },
 "nbformat": 4,
 "nbformat_minor": 5
}
