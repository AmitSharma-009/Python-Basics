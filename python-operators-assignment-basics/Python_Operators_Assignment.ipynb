{
 "cells": [
  {
   "cell_type": "markdown",
   "id": "b4664f7a",
   "metadata": {},
   "source": [
    "# 🐍 Python Operators Assignment\n",
    "\n",
    "This notebook covers basic Python operators for arithmetic, assignment, comparison, logical operations, identity, unary, bitwise, and ternary conditions. Ideal for beginners learning Python in a Data Science context."
   ]
  },
  {
   "cell_type": "markdown",
   "id": "3570e0df",
   "metadata": {},
   "source": [
    "## 1. Calculate the sum, difference, product, and quotient of two numbers"
   ]
  },
  {
   "cell_type": "code",
   "execution_count": null,
   "id": "8e52a305",
   "metadata": {},
   "outputs": [],
   "source": [
    "a = 10\n",
    "b = 5\n",
    "print(\"Sum:\", a + b)\n",
    "print(\"Difference:\", a - b)\n",
    "print(\"Product:\", a * b)\n",
    "print(\"Quotient:\", a / b)"
   ]
  },
  {
   "cell_type": "markdown",
   "id": "ce079526",
   "metadata": {},
   "source": [
    "## 2. Perform various assignment operations on a variable"
   ]
  },
  {
   "cell_type": "code",
   "execution_count": null,
   "id": "0dd844fb",
   "metadata": {},
   "outputs": [],
   "source": [
    "x = 10\n",
    "x += 5\n",
    "print(\"After += :\", x)\n",
    "x -= 3\n",
    "print(\"After -= :\", x)\n",
    "x *= 2\n",
    "print(\"After *= :\", x)\n",
    "x /= 4\n",
    "print(\"After /= :\", x)"
   ]
  },
  {
   "cell_type": "markdown",
   "id": "ef47aed8",
   "metadata": {},
   "source": [
    "## 3. Compare two numbers and print the results"
   ]
  },
  {
   "cell_type": "code",
   "execution_count": null,
   "id": "f18737d8",
   "metadata": {},
   "outputs": [],
   "source": [
    "x = 7\n",
    "y = 10\n",
    "print(\"x == y:\", x == y)\n",
    "print(\"x != y:\", x != y)\n",
    "print(\"x > y:\", x > y)\n",
    "print(\"x < y:\", x < y)\n",
    "print(\"x >= y:\", x >= y)\n",
    "print(\"x <= y:\", x <= y)"
   ]
  },
  {
   "cell_type": "markdown",
   "id": "b6c0ad10",
   "metadata": {},
   "source": [
    "## 4. Check conditions using logical operators"
   ]
  },
  {
   "cell_type": "code",
   "execution_count": null,
   "id": "57813a70",
   "metadata": {},
   "outputs": [],
   "source": [
    "a = True\n",
    "b = False\n",
    "print(\"a and b:\", a and b)\n",
    "print(\"a or b:\", a or b)\n",
    "print(\"not a:\", not a)"
   ]
  },
  {
   "cell_type": "markdown",
   "id": "7f2a4bf4",
   "metadata": {},
   "source": [
    "## 5. Check the identity of variables"
   ]
  },
  {
   "cell_type": "code",
   "execution_count": null,
   "id": "cef573c3",
   "metadata": {},
   "outputs": [],
   "source": [
    "x = [1, 2, 3]\n",
    "y = x\n",
    "z = [1, 2, 3]\n",
    "print(\"x is y:\", x is y)\n",
    "print(\"x is z:\", x is z)\n",
    "print(\"x == z:\", x == z)"
   ]
  },
  {
   "cell_type": "markdown",
   "id": "b21afd5d",
   "metadata": {},
   "source": [
    "## 6. Use unary operators to change the sign of a number"
   ]
  },
  {
   "cell_type": "code",
   "execution_count": null,
   "id": "de5b75ca",
   "metadata": {},
   "outputs": [],
   "source": [
    "n = 10\n",
    "print(\"Original:\", n)\n",
    "print(\"Negated:\", -n)"
   ]
  },
  {
   "cell_type": "markdown",
   "id": "f5e36918",
   "metadata": {},
   "source": [
    "## 7. Perform bitwise operations on any two integers"
   ]
  },
  {
   "cell_type": "code",
   "execution_count": null,
   "id": "451f2184",
   "metadata": {},
   "outputs": [],
   "source": [
    "a = 5  # 0101\n",
    "b = 3  # 0011\n",
    "print(\"Bitwise AND:\", a & b)\n",
    "print(\"Bitwise OR:\", a | b)\n",
    "print(\"Bitwise XOR:\", a ^ b)\n",
    "print(\"Bitwise NOT a:\", ~a)"
   ]
  },
  {
   "cell_type": "markdown",
   "id": "19407418",
   "metadata": {},
   "source": [
    "## 8. Use the ternary operator to assign values based on conditions"
   ]
  },
  {
   "cell_type": "code",
   "execution_count": null,
   "id": "34a86984",
   "metadata": {},
   "outputs": [],
   "source": [
    "age = 18\n",
    "status = \"Adult\" if age >= 18 else \"Minor\"\n",
    "print(\"Status:\", status)"
   ]
  }
 ],
 "metadata": {},
 "nbformat": 4,
 "nbformat_minor": 5
}