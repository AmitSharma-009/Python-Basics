{
 "cells": [
  {
   "cell_type": "markdown",
   "id": "4b71b46b-0532-4704-ace5-5259e7f34dea",
   "metadata": {},
   "source": [
    "# 🐍 Python Operators Assignment\n",
    "\n",
    "This notebook covers basic Python operators for arithmetic, assignment, comparison, logical operations, identity, unary, bitwise, and ternary conditions. Ideal for beginners learning Python in a Data Science context."
   ]
  },
  {
   "cell_type": "code",
   "execution_count": 2,
   "id": "85920f9e-f733-4db8-8b57-07d250ecec26",
   "metadata": {},
   "outputs": [],
   "source": [
    "import pandas as pd\n",
    "import numpy as np\n",
    "\n",
    "\n",
    "\n",
    "import warnings\n",
    "warnings.filterwarnings('ignore')"
   ]
  },
  {
   "cell_type": "markdown",
   "id": "f6afe370-f5bc-45dc-9ff3-694aaf387902",
   "metadata": {},
   "source": [
    "## 1. Calculate the sum, difference, product, and quotient of two numbers."
   ]
  },
  {
   "cell_type": "code",
   "execution_count": 3,
   "id": "da773c32-8f1f-4c12-93dd-70e817df40e2",
   "metadata": {},
   "outputs": [
    {
     "name": "stdout",
     "output_type": "stream",
     "text": [
      "Sum: 15\n",
      "Difference: 5\n",
      "Product: 50\n",
      "Quotient: 2.0\n"
     ]
    }
   ],
   "source": [
    "a = 10\n",
    "b = 5\n",
    "print(\"Sum:\", a + b)\n",
    "print(\"Difference:\", a - b)\n",
    "print(\"Product:\", a * b)\n",
    "print(\"Quotient:\", a / b)"
   ]
  },
  {
   "cell_type": "markdown",
   "id": "be122e6f-e9cb-4f4f-a4d1-3da1b9b2e988",
   "metadata": {},
   "source": [
    "## 2. Perform various assignment operations on a variable."
   ]
  },
  {
   "cell_type": "code",
   "execution_count": 4,
   "id": "4f955ed8-b305-456b-ac14-d5dec02633c0",
   "metadata": {},
   "outputs": [
    {
     "name": "stdout",
     "output_type": "stream",
     "text": [
      "After += : 15\n",
      "After -= : 12\n",
      "After *= : 24\n",
      "After /= : 6.0\n"
     ]
    }
   ],
   "source": [
    "x = 10\n",
    "x += 5\n",
    "print(\"After += :\", x)\n",
    "x -= 3\n",
    "print(\"After -= :\", x)\n",
    "x *= 2\n",
    "print(\"After *= :\", x)\n",
    "x /= 4\n",
    "print(\"After /= :\", x)"
   ]
  },
  {
   "cell_type": "markdown",
   "id": "867a6ac3-4a7e-499d-85b7-638748b92e28",
   "metadata": {},
   "source": [
    "## 3. Compare two numbers and print the results."
   ]
  },
  {
   "cell_type": "code",
   "execution_count": 5,
   "id": "d089af71-7067-4871-acb6-178026a5743a",
   "metadata": {},
   "outputs": [
    {
     "name": "stdout",
     "output_type": "stream",
     "text": [
      "x == y: False\n",
      "x != y: True\n",
      "x > y: False\n",
      "x < y: True\n",
      "x >= y: False\n",
      "x <= y: True\n"
     ]
    }
   ],
   "source": [
    "x = 7\n",
    "y = 10\n",
    "print(\"x == y:\", x == y)\n",
    "print(\"x != y:\", x != y)\n",
    "print(\"x > y:\", x > y)\n",
    "print(\"x < y:\", x < y)\n",
    "print(\"x >= y:\", x >= y)\n",
    "print(\"x <= y:\", x <= y)"
   ]
  },
  {
   "cell_type": "markdown",
   "id": "20bf7493-b529-40f9-9122-9f4a7752c7c3",
   "metadata": {},
   "source": [
    "## 4. Check conditions using logical operators."
   ]
  },
  {
   "cell_type": "code",
   "execution_count": 6,
   "id": "78ecbd0b-df7f-43b5-9048-2746aaf03750",
   "metadata": {},
   "outputs": [
    {
     "name": "stdout",
     "output_type": "stream",
     "text": [
      "a and b: False\n",
      "a or b: True\n",
      "not a: False\n"
     ]
    }
   ],
   "source": [
    "a = True\n",
    "b = False\n",
    "print(\"a and b:\", a and b)\n",
    "print(\"a or b:\", a or b)\n",
    "print(\"not a:\", not a)"
   ]
  },
  {
   "cell_type": "markdown",
   "id": "df116a97-76f7-45fb-a4da-f38a470f9e38",
   "metadata": {},
   "source": [
    "## 5. Check the identity of variables."
   ]
  },
  {
   "cell_type": "code",
   "execution_count": 7,
   "id": "ef11c72e-7ec2-414d-a766-af9087e83ce5",
   "metadata": {},
   "outputs": [
    {
     "name": "stdout",
     "output_type": "stream",
     "text": [
      "x is y: True\n",
      "x is z: False\n",
      "x == z: True\n"
     ]
    }
   ],
   "source": [
    "x = [1, 2, 3]\n",
    "y = x\n",
    "z = [1, 2, 3]\n",
    "print(\"x is y:\", x is y)\n",
    "print(\"x is z:\", x is z)\n",
    "print(\"x == z:\", x == z)"
   ]
  },
  {
   "cell_type": "markdown",
   "id": "673f906d-04e8-45c5-b069-10b6915d4a23",
   "metadata": {},
   "source": [
    "## 6. Use unary operators to change the sign of a number."
   ]
  },
  {
   "cell_type": "code",
   "execution_count": 8,
   "id": "a8120834-8711-40e8-9b6e-b28aa39cafc2",
   "metadata": {},
   "outputs": [
    {
     "name": "stdout",
     "output_type": "stream",
     "text": [
      "Original: 10\n",
      "Negated: -10\n"
     ]
    }
   ],
   "source": [
    "n = 10\n",
    "print(\"Original:\", n)\n",
    "print(\"Negated:\", -n)"
   ]
  },
  {
   "cell_type": "markdown",
   "id": "b42a351c-c0c2-45b9-8242-d8ab05bbe785",
   "metadata": {},
   "source": [
    "## 7. Perform bitwise operations on any two integers."
   ]
  },
  {
   "cell_type": "code",
   "execution_count": 9,
   "id": "3bcdae7a-312d-446f-9d8b-c7369f489a38",
   "metadata": {},
   "outputs": [
    {
     "name": "stdout",
     "output_type": "stream",
     "text": [
      "Bitwise AND: 1\n",
      "Bitwise OR: 7\n",
      "Bitwise XOR: 6\n",
      "Bitwise NOT a: -6\n"
     ]
    }
   ],
   "source": [
    "a = 5  # 0101\n",
    "b = 3  # 0011\n",
    "print(\"Bitwise AND:\", a & b)\n",
    "print(\"Bitwise OR:\", a | b)\n",
    "print(\"Bitwise XOR:\", a ^ b)\n",
    "print(\"Bitwise NOT a:\", ~a)"
   ]
  },
  {
   "cell_type": "markdown",
   "id": "33afce43-e9bd-4fa2-82fc-bc984f3b9525",
   "metadata": {},
   "source": [
    "## 8. Use the ternary operator to assign values based on conditions."
   ]
  },
  {
   "cell_type": "code",
   "execution_count": 10,
   "id": "5ddd7234-c852-4e61-a045-9dfe929912c2",
   "metadata": {},
   "outputs": [
    {
     "name": "stdout",
     "output_type": "stream",
     "text": [
      "Status: Adult\n"
     ]
    }
   ],
   "source": [
    "age = 18\n",
    "status = \"Adult\" if age >= 18 else \"Minor\"\n",
    "print(\"Status:\", status)"
   ]
  }
 ],
 "metadata": {
  "kernelspec": {
   "display_name": "Python [conda env:base] *",
   "language": "python",
   "name": "conda-base-py"
  },
  "language_info": {
   "codemirror_mode": {
    "name": "ipython",
    "version": 3
   },
   "file_extension": ".py",
   "mimetype": "text/x-python",
   "name": "python",
   "nbconvert_exporter": "python",
   "pygments_lexer": "ipython3",
   "version": "3.12.7"
  }
 },
 "nbformat": 4,
 "nbformat_minor": 5
}
